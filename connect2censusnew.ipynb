{
 "cells": [
  {
   "cell_type": "code",
   "execution_count": 1,
   "id": "ec89ede5-e010-43b3-a1ae-63018d090008",
   "metadata": {},
   "outputs": [],
   "source": [
    "%load_ext rpy2.ipython\n",
    "%load_ext autoreload\n",
    "%autoreload 2\n",
    "\n",
    "%matplotlib inline  \n",
    "from matplotlib import rcParams\n",
    "rcParams['figure.figsize'] = (16, 100)\n",
    "\n",
    "import warnings\n",
    "from rpy2.rinterface import RRuntimeWarning\n",
    "warnings.filterwarnings(\"ignore\") # Ignore all warnings\n",
    "# warnings.filterwarnings(\"ignore\", category=RRuntimeWarning) # Show some warnings\n",
    "\n",
    "import pandas as pd\n",
    "import numpy as np\n",
    "import matplotlib.pyplot as plt\n",
    "from IPython.display import display, HTML"
   ]
  },
  {
   "cell_type": "code",
   "execution_count": 2,
   "id": "c38ffcf4-0a01-44b8-b660-3b948ff3c2b9",
   "metadata": {},
   "outputs": [
    {
     "data": {
      "application/javascript": [
       "// Disable auto-scrolling\n",
       "IPython.OutputArea.prototype._should_scroll = function(lines) {\n",
       "    return false;\n",
       "}\n"
      ],
      "text/plain": [
       "<IPython.core.display.Javascript object>"
      ]
     },
     "metadata": {},
     "output_type": "display_data"
    }
   ],
   "source": [
    "%%javascript\n",
    "// Disable auto-scrolling\n",
    "IPython.OutputArea.prototype._should_scroll = function(lines) {\n",
    "    return false;\n",
    "}"
   ]
  },
  {
   "cell_type": "code",
   "execution_count": 3,
   "id": "15ba69c8-1f7d-443c-9797-fd7177b28397",
   "metadata": {},
   "outputs": [
    {
     "name": "stdout",
     "output_type": "stream",
     "text": [
      "── Attaching core tidyverse packages ──────────────────────── tidyverse 2.0.0 ──\n",
      "✔ forcats   1.0.0     ✔ stringr   1.5.1\n",
      "✔ lubridate 1.9.4     ✔ tibble    3.2.1\n",
      "✔ purrr     1.0.4     ✔ tidyr     1.3.1\n",
      "── Conflicts ────────────────────────────────────────── tidyverse_conflicts() ──\n",
      "✖ dplyr::filter() masks stats::filter()\n",
      "✖ dplyr::lag()    masks stats::lag()\n",
      "ℹ Use the conflicted package (<http://conflicted.r-lib.org/>) to force all conflicts to become errors\n"
     ]
    },
    {
     "data": {
      "text/plain": [
       "\n",
       "Attaching package: ‘dplyr’\n",
       "\n",
       "The following objects are masked from ‘package:stats’:\n",
       "\n",
       "    filter, lag\n",
       "\n",
       "The following objects are masked from ‘package:base’:\n",
       "\n",
       "    intersect, setdiff, setequal, union\n",
       "\n"
      ]
     },
     "metadata": {},
     "output_type": "display_data"
    }
   ],
   "source": [
    "%%R\n",
    "\n",
    "# My commonly used R imports\n",
    "library(readr)\n",
    "library(dplyr)\n",
    "library(ggplot2)\n",
    "library(tidycensus)\n",
    "library(tidyverse)"
   ]
  },
  {
   "cell_type": "code",
   "execution_count": 40,
   "id": "646bd30a-3ba7-4834-ab34-2085abfb9a69",
   "metadata": {},
   "outputs": [],
   "source": [
    "import pandas as pd"
   ]
  },
  {
   "cell_type": "code",
   "execution_count": 59,
   "id": "73f21cba-d420-4b4c-a784-8754cb95d46f",
   "metadata": {},
   "outputs": [],
   "source": [
    "texas_hiv = pd.read_csv(\"texas_hiv.csv\")"
   ]
  },
  {
   "cell_type": "code",
   "execution_count": 60,
   "id": "9befb389-415a-4561-b321-e2f42cdaf314",
   "metadata": {},
   "outputs": [
    {
     "name": "stdout",
     "output_type": "stream",
     "text": [
      "Rows: 255 Columns: 3\n",
      "── Column specification ────────────────────────────────────────────────────────\n",
      "Delimiter: \",\"\n",
      "chr (1): County\n",
      "num (2): # HIV Cases, County Value**\n",
      "\n",
      "ℹ Use `spec()` to retrieve the full column specification for this data.\n",
      "ℹ Specify the column types or set `show_col_types = FALSE` to quiet this message.\n"
     ]
    }
   ],
   "source": [
    "%%R\n",
    "texas_hiv <- read_csv(\"texas_hiv.csv\")"
   ]
  },
  {
   "cell_type": "code",
   "execution_count": 43,
   "id": "fb67a4c5-bcf8-489e-9c7b-d6403911ef1b",
   "metadata": {},
   "outputs": [
    {
     "name": "stdout",
     "output_type": "stream",
     "text": [
      "\n",
      "The downloaded binary packages are in\n",
      "\t/var/folders/vt/pkjvr6656lv0kkp6hgt8rwvr0000gn/T//RtmpqBWRG7/downloaded_packages\n"
     ]
    },
    {
     "data": {
      "text/plain": [
       "trying URL 'https://cran.csie.ntu.edu.tw/bin/macosx/big-sur-arm64/contrib/4.4/tidycensus_1.7.1.tgz'\n",
       "Content type 'application/octet-stream' length 3554938 bytes (3.4 MB)\n",
       "==================================================\n",
       "downloaded 3.4 MB\n",
       "\n",
       "trying URL 'https://cran.csie.ntu.edu.tw/bin/macosx/big-sur-arm64/contrib/4.4/tidyverse_2.0.0.tgz'\n",
       "Content type 'application/octet-stream' length 428901 bytes (418 KB)\n",
       "==================================================\n",
       "downloaded 418 KB\n",
       "\n"
      ]
     },
     "metadata": {},
     "output_type": "display_data"
    }
   ],
   "source": [
    "%%R\n",
    "\n",
    "install.packages(c(\"tidycensus\", \"tidyverse\"))"
   ]
  },
  {
   "cell_type": "code",
   "execution_count": 44,
   "id": "f3b7f684-7c94-4622-8468-72c74c1bef85",
   "metadata": {},
   "outputs": [
    {
     "data": {
      "text/plain": [
       "To install your API key for use in future sessions, run this function with `install = TRUE`.\n"
      ]
     },
     "metadata": {},
     "output_type": "display_data"
    }
   ],
   "source": [
    "%%R\n",
    "census_api_key(\"----\")"
   ]
  },
  {
   "cell_type": "code",
   "execution_count": 45,
   "id": "436aecb6-ad89-4699-9730-1d3cbeb82a59",
   "metadata": {},
   "outputs": [
    {
     "data": {
      "text/plain": [
       "Getting data from the 2015-2019 5-year ACS\n",
       "Using FIPS code '48' for state 'TX'\n",
       "Using FIPS code '48' for state 'TX'\n"
      ]
     },
     "metadata": {},
     "output_type": "display_data"
    }
   ],
   "source": [
    "%%R\n",
    "tx_socioeconomic <- get_acs(\n",
    "  geography = \"county\",\n",
    "  variables = c(\n",
    "    # Original variables\n",
    "    labor_force = \"B23025_002\",       # Civilian labor force 16 years and over\n",
    "    unemployed = \"B23025_005\",        # Unemployed\n",
    "    total_pop_ins = \"B27001_001\",     # Total population for health insurance coverage\n",
    "    uninsured = \"B27010_033\",         # No health insurance coverage\n",
    "    total_25_plus = \"B15003_001\",     # Total population 25 years and over\n",
    "    less_than_9th = \"B15003_003\",     # Less than 9th grade\n",
    "    some_hs = \"B15003_004\",           # 9th to 12th grade, no diploma\n",
    "    hs_graduate = \"B15003_017\",       # High school graduate\n",
    "    some_college = \"B15003_018\",      # Some college, no degree\n",
    "    associates = \"B15003_021\",        # Associate's degree\n",
    "    bachelors = \"B15003_022\",         # Bachelor's degree\n",
    "    masters = \"B15003_023\",           # Master's degree\n",
    "    professional = \"B15003_024\",      # Professional degree\n",
    "    doctorate = \"B15003_025\",         # Doctorate degree\n",
    "    total_poverty = \"B17001_001\",     # Total population for poverty status\n",
    "    below_poverty = \"B17001_002\",     # Income below poverty level\n",
    "    \n",
    "    # Population for density calculation\n",
    "    total_population = \"B01003_001\",  # Total population\n",
    "    land_area = \"B01001_001\",         # Land area in square miles\n",
    "    \n",
    "    # Race variables\n",
    "    white_alone = \"B02001_002\",       # White alone\n",
    "    black_alone = \"B02001_003\",       # Black or African American alone\n",
    "    native_american = \"B02001_004\",   # American Indian and Alaska Native alone\n",
    "    asian_alone = \"B02001_005\",       # Asian alone\n",
    "    pacific_islander = \"B02001_006\",  # Native Hawaiian and Other Pacific Islander alone\n",
    "    other_race = \"B02001_007\",        # Some other race alone\n",
    "    two_or_more = \"B02001_008\",       # Two or more races\n",
    "    hispanic = \"B03003_003\"           # Hispanic or Latino\n",
    "  ),\n",
    "  state = \"TX\",\n",
    "  year = 2019\n",
    ")"
   ]
  },
  {
   "cell_type": "code",
   "execution_count": 46,
   "id": "e547e9a1-8b15-4022-ae74-8de194482431",
   "metadata": {},
   "outputs": [],
   "source": [
    "%%R\n",
    "tx_socioeconomic <- tx_socioeconomic %>%\n",
    "  spread(variable, estimate) %>%\n",
    "  mutate(population_density = total_population / land_area)"
   ]
  },
  {
   "cell_type": "code",
   "execution_count": 47,
   "id": "15cb165e-66b0-49db-972e-b733d986982e",
   "metadata": {},
   "outputs": [
    {
     "data": {
      "text/plain": [
       "Using FIPS code '48' for state 'TX'\n"
      ]
     },
     "metadata": {},
     "output_type": "display_data"
    }
   ],
   "source": [
    "%%R\n",
    "library(tigris)\n",
    "tx_counties <- counties(state = \"TX\", year = 2019)\n",
    "tx_counties$land_area_sqmi <- tx_counties$ALAND / 2589988.11  # Convert sq meters to sq miles\n"
   ]
  },
  {
   "cell_type": "code",
   "execution_count": 48,
   "id": "8fe09f06-fdf7-4d57-bd3f-a07c4aa9f6e1",
   "metadata": {},
   "outputs": [
    {
     "data": {
      "text/plain": [
       "Using FIPS code '48' for state 'TX'\n"
      ]
     },
     "metadata": {},
     "output_type": "display_data"
    }
   ],
   "source": [
    "%%R\n",
    "tx_counties <- counties(state = \"TX\", year = 2019)\n",
    "tx_counties <- tx_counties %>%\n",
    "  mutate(land_area_sqmi = ALAND / 2589988.11,  # Convert sq meters to sq miles\n",
    "         GEOID = as.character(GEOID))  # Make sure GEOID is character for joining"
   ]
  },
  {
   "cell_type": "code",
   "execution_count": 49,
   "id": "2bc4b956-0028-41fa-9265-92c9c7c3ed83",
   "metadata": {},
   "outputs": [],
   "source": [
    "%%R\n",
    "library(sf)"
   ]
  },
  {
   "cell_type": "code",
   "execution_count": 50,
   "id": "0f61bfe7-aa56-46ff-bfd3-863022197e88",
   "metadata": {},
   "outputs": [],
   "source": [
    "%%R\n",
    "land_area_df <- tx_counties %>%\n",
    "  st_drop_geometry() %>%  # Drop geometry to make it a regular dataframe\n",
    "  select(GEOID, land_area_sqmi)"
   ]
  },
  {
   "cell_type": "code",
   "execution_count": 51,
   "id": "953d47a3-0a72-4995-b9c8-195c26072985",
   "metadata": {},
   "outputs": [
    {
     "name": "stdout",
     "output_type": "stream",
     "text": [
      "# A tibble: 23 × 4\n",
      "   GEOID NAME                   total_population land_area\n",
      "   <chr> <chr>                             <dbl>     <dbl>\n",
      " 1 48001 Anderson County, Texas               NA        NA\n",
      " 2 48001 Anderson County, Texas               NA        NA\n",
      " 3 48001 Anderson County, Texas               NA        NA\n",
      " 4 48001 Anderson County, Texas               NA        NA\n",
      " 5 48001 Anderson County, Texas               NA        NA\n",
      " 6 48001 Anderson County, Texas               NA        NA\n",
      " 7 48001 Anderson County, Texas               NA        NA\n",
      " 8 48001 Anderson County, Texas               NA        NA\n",
      " 9 48001 Anderson County, Texas               NA        NA\n",
      "10 48001 Anderson County, Texas               NA        NA\n",
      "# ℹ 13 more rows\n",
      "# ℹ Use `print(n = ...)` to see more rows\n"
     ]
    }
   ],
   "source": [
    "%%R\n",
    "tx_socioeconomic %>%\n",
    "  filter(NAME == \"Anderson County, Texas\") %>%\n",
    "  select(GEOID, NAME, total_population, land_area)"
   ]
  },
  {
   "cell_type": "code",
   "execution_count": 52,
   "id": "0767c33b-3ab9-4db7-a25b-99a213185612",
   "metadata": {},
   "outputs": [
    {
     "name": "stdout",
     "output_type": "stream",
     "text": [
      "`summarise()` has grouped output by 'GEOID'. You can override using the\n",
      "`.groups` argument.\n"
     ]
    }
   ],
   "source": [
    "%%R\n",
    "tx_county_aggregated <- tx_socioeconomic %>%\n",
    "  group_by(GEOID, NAME) %>%\n",
    "  summarise(across(everything(), ~ first(na.omit(.)), .names = \"{.col}\")) %>%\n",
    "  ungroup()"
   ]
  },
  {
   "cell_type": "code",
   "execution_count": 53,
   "id": "ecebbaa1-4252-416f-ab95-775c0e8977f7",
   "metadata": {},
   "outputs": [
    {
     "name": "stdout",
     "output_type": "stream",
     "text": [
      "[1] 254\n"
     ]
    }
   ],
   "source": [
    "%%R\n",
    "nrow(tx_county_aggregated)"
   ]
  },
  {
   "cell_type": "code",
   "execution_count": 54,
   "id": "8d32aa89-741a-4d7f-a0dd-f2d39e382903",
   "metadata": {},
   "outputs": [
    {
     "data": {
      "text/plain": [
       "Using FIPS code '48' for state 'TX'\n"
      ]
     },
     "metadata": {},
     "output_type": "display_data"
    }
   ],
   "source": [
    "%%R\n",
    "library(tigris)\n",
    "tx_counties <- counties(state = \"TX\", year = 2019, cb = TRUE)\n",
    "land_area_df <- data.frame(\n",
    "  GEOID = tx_counties$GEOID,\n",
    "  land_area_sqmi = as.numeric(tx_counties$ALAND) / 2589988.11\n",
    ")"
   ]
  },
  {
   "cell_type": "code",
   "execution_count": 55,
   "id": "3ac86b89-4757-4bc8-b124-eb02186419c7",
   "metadata": {},
   "outputs": [],
   "source": [
    "%%R\n",
    "tx_final <- tx_county_aggregated %>%\n",
    "  left_join(land_area_df, by = \"GEOID\") %>%\n",
    "  mutate(population_density = total_population / land_area_sqmi)\n"
   ]
  },
  {
   "cell_type": "code",
   "execution_count": 56,
   "id": "315685c3-84fb-4265-96a6-2a29b6ef8a3e",
   "metadata": {},
   "outputs": [
    {
     "name": "stdout",
     "output_type": "stream",
     "text": [
      "# A tibble: 6 × 4\n",
      "  NAME                    total_population land_area_sqmi population_density\n",
      "  <chr>                              <dbl>          <dbl>              <dbl>\n",
      "1 Anderson County, Texas             57810          1063.              54.4 \n",
      "2 Andrews County, Texas              18036          1501.              12.0 \n",
      "3 Angelina County, Texas             87322           798.             109.  \n",
      "4 Aransas County, Texas              24462           252.              97.0 \n",
      "5 Archer County, Texas                8716           903.               9.65\n",
      "6 Armstrong County, Texas             1973           909.               2.17\n"
     ]
    }
   ],
   "source": [
    "%%R\n",
    "tx_final %>%\n",
    "  select(NAME, total_population, land_area_sqmi, population_density) %>%\n",
    "  head()"
   ]
  },
  {
   "cell_type": "code",
   "execution_count": 57,
   "id": "8f52cb75-ca01-4f5e-b076-34faa8e5f006",
   "metadata": {},
   "outputs": [
    {
     "data": {
      "image/png": "[encoded data removed]",
      "text/plain": [
       "<IPython.core.display.Image object>"
      ]
     },
     "metadata": {},
     "output_type": "display_data"
    }
   ],
   "source": [
    "%%R\n",
    "library(ggplot2)\n",
    "ggplot(tx_final, aes(x = population_density)) +\n",
    "  geom_histogram(fill = \"steelblue\", bins = 30) +\n",
    "  labs(title = \"Distribution of Population Density in Texas Counties\",\n",
    "       x = \"People per Square Mile\",\n",
    "       y = \"Number of Counties\") +\n",
    "  theme_minimal()"
   ]
  },
  {
   "cell_type": "code",
   "execution_count": 62,
   "id": "0520246d-3d1a-4fb6-95bd-aeba10dc2056",
   "metadata": {},
   "outputs": [
    {
     "name": "stdout",
     "output_type": "stream",
     "text": [
      "# A tibble: 6 × 3\n",
      "  County   `# HIV Cases` `County Value**`\n",
      "  <chr>            <dbl>            <dbl>\n",
      "1 Texas           100700              415\n",
      "2 Anderson           297              586\n",
      "3 Andrews             16              112\n",
      "4 Angelina           185              260\n",
      "5 Aransas             36              169\n",
      "6 Archer              NA               NA\n"
     ]
    }
   ],
   "source": [
    "%%R\n",
    "head(texas_hiv)"
   ]
  },
  {
   "cell_type": "code",
   "execution_count": 63,
   "id": "b46bfdf1-b3aa-4f9e-b684-f68674ed893a",
   "metadata": {},
   "outputs": [],
   "source": [
    "%%R\n",
    "texas_hiv_clean <- texas_hiv %>%\n",
    "  filter(County != \"Texas\") %>%\n",
    "  mutate(NAME = paste0(County, \" County, Texas\"))\n"
   ]
  },
  {
   "cell_type": "code",
   "execution_count": 64,
   "id": "b57db9e5-936d-4e80-a915-3bbff25ea93f",
   "metadata": {},
   "outputs": [],
   "source": [
    "%%R\n",
    "tx_combined <- tx_final %>%\n",
    "  left_join(texas_hiv_clean, by = \"NAME\")\n"
   ]
  },
  {
   "cell_type": "code",
   "execution_count": 66,
   "id": "5b246bfa-09b1-4456-8dd7-7739e8b9e428",
   "metadata": {},
   "outputs": [
    {
     "name": "stdout",
     "output_type": "stream",
     "text": [
      "Rows: 254\n",
      "Columns: 34\n",
      "$ GEOID              <chr> \"48001\", \"48003\", \"48005\", \"48007\", \"48009\", \"48011…\n",
      "$ NAME               <chr> \"Anderson County, Texas\", \"Andrews County, Texas\", …\n",
      "$ moe                <dbl> 16, 21, 9, 25, 19, 3, 22, 25, 7, 25, 32, 14, 7, 32,…\n",
      "$ asian_alone        <dbl> 321, 65, 975, 489, 15, 0, 173, 111, 57, 62, 739, 0,…\n",
      "$ associates         <dbl> 2980, 623, 4449, 1337, 461, 155, 1470, 1511, 264, 1…\n",
      "$ bachelors          <dbl> 2870, 814, 6413, 2423, 995, 226, 3193, 3408, 563, 2…\n",
      "$ below_poverty      <dbl> 6598, 1647, 15026, 5127, 1033, 174, 7196, 3583, 590…\n",
      "$ black_alone        <dbl> 12124, 122, 12890, 354, 83, 5, 135, 2684, 46, 154, …\n",
      "$ doctorate          <dbl> 226, 30, 242, 176, 47, 2, 98, 140, 130, 123, 564, 1…\n",
      "$ hispanic           <dbl> 10283, 10151, 19326, 6721, 722, 149, 31855, 7989, 4…\n",
      "$ hs_graduate        <dbl> 11407, 3020, 14330, 4130, 1900, 270, 10438, 5184, 1…\n",
      "$ labor_force        <dbl> 19868, 8484, 39169, 10606, 4577, 901, 21918, 14325,…\n",
      "$ land_area          <dbl> 57810, 18036, 87322, 24462, 8716, 1973, 49528, 2976…\n",
      "$ less_than_9th      <dbl> 0, 0, 21, 0, 0, 4, 12, 0, 0, 0, 0, 0, 0, 94, 413, 0…\n",
      "$ masters            <dbl> 1190, 347, 2553, 999, 325, 88, 1120, 1085, 42, 931,…\n",
      "$ native_american    <dbl> 317, 0, 490, 53, 96, 22, 122, 45, 80, 262, 398, 9, …\n",
      "$ other_race         <dbl> 1926, 1094, 1893, 471, 43, 42, 992, 2952, 965, 288,…\n",
      "$ pacific_islander   <dbl> 9, 31, 5, 0, 0, 0, 0, 0, 0, 0, 0, 40, 4, 2392, 2288…\n",
      "$ professional       <dbl> 178, 115, 486, 313, 100, 3, 122, 206, 0, 177, 419, …\n",
      "$ some_college       <dbl> 4954, 719, 3748, 1450, 275, 44, 1730, 715, 311, 892…\n",
      "$ some_hs            <dbl> 0, 0, 0, 0, 0, 0, 67, 0, 0, 0, 47, 0, 7, 0, 620, 0,…\n",
      "$ total_25_plus      <dbl> 42073, 10700, 57275, 17878, 6137, 1400, 31431, 2023…\n",
      "$ total_pop_ins      <dbl> 44396, 17943, 85265, 24093, 8655, 1909, 49097, 2948…\n",
      "$ total_population   <dbl> 57810, 18036, 87322, 24462, 8716, 1973, 49528, 2976…\n",
      "$ total_poverty      <dbl> 44348, 17927, 84680, 24070, 8647, 1900, 48704, 2949…\n",
      "$ two_or_more        <dbl> 896, 616, 1418, 980, 164, 71, 2345, 826, 3, 1459, 2…\n",
      "$ unemployed         <dbl> 641, 317, 2597, 792, 129, 9, 2016, 820, 84, 435, 23…\n",
      "$ uninsured          <dbl> 2270, 1052, 6097, 1576, 319, 36, 3530, 1293, 543, 1…\n",
      "$ white_alone        <dbl> 42217, 16108, 69651, 22115, 8315, 1833, 45761, 2314…\n",
      "$ population_density <dbl> 54.4027111, 12.0182210, 109.4549787, 97.0446989, 9.…\n",
      "$ land_area_sqmi     <dbl> 1062.6309, 1500.7213, 797.7892, 252.0694, 903.2892,…\n",
      "$ County             <chr> \"Anderson\", \"Andrews\", \"Angelina\", \"Aransas\", \"Arch…\n",
      "$ `# HIV Cases`      <dbl> 297, 16, 185, 36, NA, NA, 73, 59, NA, 27, 217, NA, …\n",
      "$ `County Value**`   <dbl> 586, 112, 260, 169, NA, NA, 181, 232, NA, 142, 259,…\n"
     ]
    }
   ],
   "source": [
    "%%R\n",
    "glimpse(tx_combined)"
   ]
  },
  {
   "cell_type": "code",
   "execution_count": 67,
   "id": "9af27cd5-ade6-45c8-bc03-0a90f0fee217",
   "metadata": {},
   "outputs": [],
   "source": [
    "%%R\n",
    "tx_combined_clean <- tx_combined %>%\n",
    "  rename(\n",
    "    hiv_cases = `# HIV Cases`,\n",
    "    hiv_rate = `County Value**`\n",
    "  )\n"
   ]
  },
  {
   "cell_type": "code",
   "execution_count": 68,
   "id": "66a3593e-8cef-47fd-a4ff-e5d3fdca21b2",
   "metadata": {},
   "outputs": [
    {
     "name": "stdout",
     "output_type": "stream",
     "text": [
      "[1] 214\n"
     ]
    }
   ],
   "source": [
    "%%R\n",
    "sum(!is.na(tx_combined_clean$hiv_cases))"
   ]
  },
  {
   "cell_type": "code",
   "execution_count": 69,
   "id": "b323e18b-1dec-4eef-ba2f-a761c8fbb189",
   "metadata": {},
   "outputs": [
    {
     "name": "stdout",
     "output_type": "stream",
     "text": [
      "`geom_smooth()` using formula = 'y ~ x'\n"
     ]
    },
    {
     "name": "stderr",
     "output_type": "stream",
     "text": [
      "R[write to console]: In addition: \n",
      "R[write to console]: Warning messages:\n",
      "\n",
      "R[write to console]: 1: Removed 40 rows containing non-finite outside the scale range\n",
      "(`stat_smooth()`). \n",
      "\n",
      "R[write to console]: 2: Removed 40 rows containing missing values or values outside the scale range\n",
      "(`geom_point()`). \n",
      "\n"
     ]
    },
    {
     "data": {
      "image/png": "[encoded data removed]",
      "text/plain": [
       "<IPython.core.display.Image object>"
      ]
     },
     "metadata": {},
     "output_type": "display_data"
    }
   ],
   "source": [
    "%%R\n",
    "library(ggplot2)\n",
    "ggplot(tx_combined_clean, aes(x = population_density, y = hiv_rate)) +\n",
    "  geom_point(alpha = 0.7) +\n",
    "  geom_smooth(method = \"lm\", color = \"red\") +\n",
    "  scale_x_log10() +  # Log scale for density due to wide range\n",
    "  labs(title = \"Population Density vs HIV Rate in Texas Counties\",\n",
    "       x = \"Population Density (people per sq mile - log scale)\",\n",
    "       y = \"HIV Rate per 100,000\") +\n",
    "  theme_minimal()\n"
   ]
  },
  {
   "cell_type": "code",
   "execution_count": 70,
   "id": "d3aed08e-1101-4c4a-9191-eb46d372d3bc",
   "metadata": {},
   "outputs": [
    {
     "name": "stdout",
     "output_type": "stream",
     "text": [
      "# A tibble: 10 × 4\n",
      "   NAME                  population_density hiv_cases hiv_rate\n",
      "   <chr>                              <dbl>     <dbl>    <dbl>\n",
      " 1 Borden County, Texas               0.683        17     3230\n",
      " 2 Garza County, Texas                6.79         54     1033\n",
      " 3 Reeves County, Texas               5.88        121     1000\n",
      " 4 Walker County, Texas              92.2         694      994\n",
      " 5 Frio County, Texas                17.5         148      960\n",
      " 6 Dallas County, Texas            2988.        19597      926\n",
      " 7 Willacy County, Texas             36.6         127      748\n",
      " 8 Harris County, Texas            2723.        27828      724\n",
      " 9 Concho County, Texas               3.32         21      709\n",
      "10 Karnes County, Texas              20.8          77      616\n"
     ]
    }
   ],
   "source": [
    "%%R\n",
    "tx_combined_clean %>%\n",
    "  arrange(desc(hiv_rate)) %>%\n",
    "  select(NAME, population_density, hiv_cases, hiv_rate) %>%\n",
    "  head(10)\n"
   ]
  },
  {
   "cell_type": "code",
   "execution_count": 71,
   "id": "86347c83-83d4-49c5-bda7-fd4c23cecdc7",
   "metadata": {},
   "outputs": [
    {
     "name": "stdout",
     "output_type": "stream",
     "text": [
      "                    hiv_rate population_density below_poverty uninsured\n",
      "hiv_rate           1.0000000          0.2032951     0.2027507 0.2062606\n",
      "population_density 0.2032951          1.0000000     0.8802840 0.8912243\n",
      "below_poverty      0.2027507          0.8802840     1.0000000 0.9947675\n",
      "uninsured          0.2062606          0.8912243     0.9947675 1.0000000\n",
      "hispanic           0.1918489          0.8523826     0.9859582 0.9722012\n",
      "black_alone        0.2200478          0.8763241     0.9145228 0.9457626\n",
      "white_alone        0.1919122          0.9354701     0.9726599 0.9723294\n",
      "                    hispanic black_alone white_alone\n",
      "hiv_rate           0.1918489   0.2200478   0.1919122\n",
      "population_density 0.8523826   0.8763241   0.9354701\n",
      "below_poverty      0.9859582   0.9145228   0.9726599\n",
      "uninsured          0.9722012   0.9457626   0.9723294\n",
      "hispanic           1.0000000   0.8571478   0.9621128\n",
      "black_alone        0.8571478   1.0000000   0.9048170\n",
      "white_alone        0.9621128   0.9048170   1.0000000\n"
     ]
    }
   ],
   "source": [
    "%%R\n",
    "correlations <- tx_combined_clean %>%\n",
    "  select(hiv_rate, population_density, below_poverty, uninsured, \n",
    "         hispanic, black_alone, white_alone) %>%\n",
    "  cor(use = \"pairwise.complete.obs\")\n",
    "\n",
    "print(correlations)\n"
   ]
  },
  {
   "cell_type": "code",
   "execution_count": 76,
   "id": "08c6f20e-8e0f-40d3-befd-8650583fc376",
   "metadata": {},
   "outputs": [],
   "source": [
    "%%R\n",
    "tx_combined_props <- tx_combined_clean %>%\n",
    "  mutate(\n",
    "    white_prop = white_alone / total_population,\n",
    "    black_prop = black_alone / total_population,\n",
    "    hispanic_prop = hispanic / total_population,\n",
    "    poverty_rate = below_poverty / total_poverty,\n",
    "    uninsured_rate = uninsured / total_pop_ins\n",
    "  )"
   ]
  },
  {
   "cell_type": "code",
   "execution_count": 73,
   "id": "2689771c-be9c-44bc-bb1c-498b6bab619a",
   "metadata": {},
   "outputs": [
    {
     "name": "stdout",
     "output_type": "stream",
     "text": [
      "                      hiv_rate population_density poverty_rate uninsured_rate\n",
      "hiv_rate            1.00000000        0.203295068  -0.01022771    -0.02849568\n",
      "population_density  0.20329507        1.000000000  -0.08872690     0.02950032\n",
      "poverty_rate       -0.01022771       -0.088726899   1.00000000     0.44951525\n",
      "uninsured_rate     -0.02849568        0.029500323   0.44951525     1.00000000\n",
      "hispanic_prop       0.03070959        0.005735388   0.41293325     0.58598787\n",
      "black_prop          0.19114490        0.284788446   0.08009761    -0.09331727\n",
      "white_prop         -0.15584565       -0.298770821   0.02633682     0.04859255\n",
      "                   hispanic_prop  black_prop  white_prop\n",
      "hiv_rate             0.030709591  0.19114490 -0.15584565\n",
      "population_density   0.005735388  0.28478845 -0.29877082\n",
      "poverty_rate         0.412933248  0.08009761  0.02633682\n",
      "uninsured_rate       0.585987868 -0.09331727  0.04859255\n",
      "hispanic_prop        1.000000000 -0.39668297  0.05609243\n",
      "black_prop          -0.396682971  1.00000000 -0.61035636\n",
      "white_prop           0.056092425 -0.61035636  1.00000000\n"
     ]
    }
   ],
   "source": [
    "%%R\n",
    "correlation_props <- tx_combined_props %>%\n",
    "  select(hiv_rate, population_density, poverty_rate, uninsured_rate,\n",
    "         hispanic_prop, black_prop, white_prop) %>%\n",
    "  cor(use = \"pairwise.complete.obs\")\n",
    "\n",
    "print(correlation_props)"
   ]
  },
  {
   "cell_type": "code",
   "execution_count": 74,
   "id": "5a8b2a9c-12a1-426a-b164-9719e3c6ad11",
   "metadata": {},
   "outputs": [],
   "source": [
    "%%R\n",
    "write_csv(tx_combined_clean, \"texas_socioeconomic_hiv_combined.csv\")"
   ]
  },
  {
   "cell_type": "code",
   "execution_count": 75,
   "id": "f184e153-cef8-49db-a7fa-92cb2a511a38",
   "metadata": {},
   "outputs": [
    {
     "name": "stdout",
     "output_type": "stream",
     "text": [
      "[1] TRUE\n"
     ]
    }
   ],
   "source": [
    "%%R\n",
    "file.exists(\"texas_socioeconomic_hiv_combined.csv\")"
   ]
  },
  {
   "cell_type": "code",
   "execution_count": null,
   "id": "20599152-2e02-4ee6-941b-a43c787bed14",
   "metadata": {},
   "outputs": [],
   "source": []
  }
 ],
 "metadata": {
  "kernelspec": {
   "display_name": "Python 3 (ipykernel)",
   "language": "python",
   "name": "python3"
  },
  "language_info": {
   "codemirror_mode": {
    "name": "ipython",
    "version": 3
   },
   "file_extension": ".py",
   "mimetype": "text/x-python",
   "name": "python",
   "nbconvert_exporter": "python",
   "pygments_lexer": "ipython3",
   "version": "3.11.8"
  }
 },
 "nbformat": 4,
 "nbformat_minor": 5
}
