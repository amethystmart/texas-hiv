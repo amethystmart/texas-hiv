{
 "cells": [
  {
   "cell_type": "code",
   "execution_count": 6,
   "id": "23e47a23-736e-427d-8a11-8b6829fe8b56",
   "metadata": {},
   "outputs": [],
   "source": [
    "%load_ext rpy2.ipython\n",
    "%load_ext autoreload\n",
    "%autoreload 2\n",
    "\n",
    "%matplotlib inline  \n",
    "from matplotlib import rcParams\n",
    "rcParams['figure.figsize'] = (16, 100)\n",
    "\n",
    "import warnings\n",
    "from rpy2.rinterface import RRuntimeWarning\n",
    "warnings.filterwarnings(\"ignore\") # Ignore all warnings\n",
    "# warnings.filterwarnings(\"ignore\", category=RRuntimeWarning) # Show some warnings\n",
    "\n",
    "import pandas as pd\n",
    "import numpy as np\n",
    "import matplotlib.pyplot as plt\n",
    "from IPython.display import display, HTML"
   ]
  },
  {
   "cell_type": "code",
   "execution_count": 7,
   "id": "a25cc538-f115-49fc-9e83-8fca0fed985e",
   "metadata": {},
   "outputs": [
    {
     "data": {
      "application/javascript": [
       "// Disable auto-scrolling\n",
       "IPython.OutputArea.prototype._should_scroll = function(lines) {\n",
       "    return false;\n",
       "}\n"
      ],
      "text/plain": [
       "<IPython.core.display.Javascript object>"
      ]
     },
     "metadata": {},
     "output_type": "display_data"
    }
   ],
   "source": [
    "%%javascript\n",
    "// Disable auto-scrolling\n",
    "IPython.OutputArea.prototype._should_scroll = function(lines) {\n",
    "    return false;\n",
    "}"
   ]
  },
  {
   "cell_type": "code",
   "execution_count": 8,
   "id": "d574b71a-d744-4240-b44e-c2c2002e22d3",
   "metadata": {},
   "outputs": [],
   "source": [
    "%%R\n",
    "texas <- read.csv(\"texas_complete_data.csv\")\n",
    "pop <- read.csv(\"TXpopulation_2022.csv\")"
   ]
  },
  {
   "cell_type": "code",
   "execution_count": 9,
   "id": "a5b38952-320b-4bf4-a4ec-2cfeae3afd3f",
   "metadata": {},
   "outputs": [
    {
     "name": "stdout",
     "output_type": "stream",
     "text": [
      "── Attaching core tidyverse packages ──────────────────────── tidyverse 2.0.0 ──\n",
      "✔ forcats   1.0.0     ✔ readr     2.1.5\n",
      "✔ ggplot2   3.5.1     ✔ stringr   1.5.1\n",
      "✔ lubridate 1.9.4     ✔ tibble    3.2.1\n",
      "✔ purrr     1.0.4     ✔ tidyr     1.3.1\n",
      "── Conflicts ────────────────────────────────────────── tidyverse_conflicts() ──\n",
      "✖ dplyr::filter() masks stats::filter()\n",
      "✖ dplyr::lag()    masks stats::lag()\n",
      "ℹ Use the conflicted package (<http://conflicted.r-lib.org/>) to force all conflicts to become errors\n"
     ]
    },
    {
     "data": {
      "text/plain": [
       "\n",
       "Attaching package: ‘dplyr’\n",
       "\n",
       "The following objects are masked from ‘package:stats’:\n",
       "\n",
       "    filter, lag\n",
       "\n",
       "The following objects are masked from ‘package:base’:\n",
       "\n",
       "    intersect, setdiff, setequal, union\n",
       "\n"
      ]
     },
     "metadata": {},
     "output_type": "display_data"
    }
   ],
   "source": [
    "%%R\n",
    "library(dplyr)\n",
    "library(tidyverse)"
   ]
  },
  {
   "cell_type": "code",
   "execution_count": 10,
   "id": "01bb605b-4848-4743-a60a-3b1c66fe9213",
   "metadata": {},
   "outputs": [],
   "source": [
    "%%R\n",
    "tx_combined <- texas %>%\n",
    "  left_join(pop, by = \"county\")"
   ]
  },
  {
   "cell_type": "code",
   "execution_count": 11,
   "id": "602d8fad-f42c-4040-8c9a-c39a14cb2c9c",
   "metadata": {},
   "outputs": [],
   "source": [
    "%%R\n",
    "tx_combined <- tx_combined %>%\n",
    "  mutate(hiv_rate_per_100k = (X..HIV.Cases / july1_2022_pop_est) * 100000)"
   ]
  },
  {
   "cell_type": "code",
   "execution_count": 12,
   "id": "4211ebb9-3eca-40ae-a753-945f53d38225",
   "metadata": {},
   "outputs": [
    {
     "name": "stdout",
     "output_type": "stream",
     "text": [
      "     county X..HIV.Cases County.Value.. GEOID unemployment_rate less_than_hs\n",
      "1  Anderson          297            586 48001         3.2262935   0.00000000\n",
      "2   Andrews           16            112 48003         3.7364451   0.00000000\n",
      "3  Angelina          185            260 48005         6.6302433   0.03666521\n",
      "4   Aransas           36            169 48007         7.4674712   0.00000000\n",
      "5    Archer           NA             NA 48009         2.8184400   0.00000000\n",
      "6 Armstrong           NA             NA 48011         0.9988901   0.28571429\n",
      "   hs_only some_college_or_associates bachelors_or_higher poverty_rate\n",
      "1 27.11240                   18.85770            10.61013    14.877785\n",
      "2 28.22430                   12.54206            12.20561     9.187259\n",
      "3 25.01964                   14.31165            16.92536    17.744450\n",
      "4 23.10102                   15.58899            21.87605    21.300374\n",
      "5 30.95975                   11.99283            23.90419    11.946340\n",
      "6 19.28571                   14.21429            22.78571     9.157895\n",
      "  uninsured_count uninsured_percent uninsured_error_margin uninsured_zscore\n",
      "1            7174                20                 17-22%             1.59\n",
      "2            4015                24                 22-27%             2.46\n",
      "3           15643                23                 20-25%             2.12\n",
      "4            4069                23                 21-26%             2.25\n",
      "5            1311                19                 17-21%             1.44\n",
      "6             236                17                 14-19%             1.01\n",
      "  FIPS census_2020_count july1_2022_pop_est jan1_2023_pop_est num_chg_20_22\n",
      "1    1             57922              57573             57848          -349\n",
      "2    3             18610              18732             18773           122\n",
      "3    5             86395              86380             86354           -15\n",
      "4    7             23830              24945             25219          1115\n",
      "5    9              8560               8652              8712            92\n",
      "6   11              1848               1848              1859             0\n",
      "  num_chg_20_23 pct_chg_20_22 pct_chg_20_23 hiv_rate_per_100k\n",
      "1           -74          -0.6          -0.1         515.86681\n",
      "2           163           0.7           0.9          85.41533\n",
      "3           -41           0.0           0.0         214.16995\n",
      "4          1389           4.7           5.8         144.31750\n",
      "5           152           1.1           1.8                NA\n",
      "6            11           0.0           0.6                NA\n"
     ]
    }
   ],
   "source": [
    "%%R\n",
    "head(tx_combined)"
   ]
  },
  {
   "cell_type": "code",
   "execution_count": 13,
   "id": "daf83521-dbce-48b7-9aaa-91702921179f",
   "metadata": {},
   "outputs": [],
   "source": [
    "%%R\n",
    "tx_cleaned <- tx_combined %>%\n",
    "  select(\n",
    "    county,\n",
    "    GEOID,\n",
    "    X..HIV.Cases,\n",
    "    july1_2022_pop_est,\n",
    "    hiv_rate_per_100k,\n",
    "    poverty_rate,\n",
    "    unemployment_rate,\n",
    "    uninsured_percent,\n",
    "    bachelors_or_higher,\n",
    "    less_than_hs,\n",
    "    hs_only,\n",
    "    some_college_or_associates\n",
    "  )"
   ]
  },
  {
   "cell_type": "code",
   "execution_count": 14,
   "id": "4661f261-2087-4e9b-8407-b9f104a601cd",
   "metadata": {},
   "outputs": [
    {
     "name": "stdout",
     "output_type": "stream",
     "text": [
      "     county GEOID X..HIV.Cases july1_2022_pop_est hiv_rate_per_100k\n",
      "1  Anderson 48001          297              57573         515.86681\n",
      "2   Andrews 48003           16              18732          85.41533\n",
      "3  Angelina 48005          185              86380         214.16995\n",
      "4   Aransas 48007           36              24945         144.31750\n",
      "5    Archer 48009           NA               8652                NA\n",
      "6 Armstrong 48011           NA               1848                NA\n",
      "  poverty_rate unemployment_rate uninsured_percent bachelors_or_higher\n",
      "1    14.877785         3.2262935                20            10.61013\n",
      "2     9.187259         3.7364451                24            12.20561\n",
      "3    17.744450         6.6302433                23            16.92536\n",
      "4    21.300374         7.4674712                23            21.87605\n",
      "5    11.946340         2.8184400                19            23.90419\n",
      "6     9.157895         0.9988901                17            22.78571\n",
      "  less_than_hs  hs_only some_college_or_associates\n",
      "1   0.00000000 27.11240                   18.85770\n",
      "2   0.00000000 28.22430                   12.54206\n",
      "3   0.03666521 25.01964                   14.31165\n",
      "4   0.00000000 23.10102                   15.58899\n",
      "5   0.00000000 30.95975                   11.99283\n",
      "6   0.28571429 19.28571                   14.21429\n"
     ]
    }
   ],
   "source": [
    "%%R\n",
    "head(tx_cleaned)"
   ]
  },
  {
   "cell_type": "code",
   "execution_count": 15,
   "id": "89c25334-2413-4898-a1f7-3afcd2c8dcd9",
   "metadata": {},
   "outputs": [
    {
     "name": "stdout",
     "output_type": "stream",
     "text": [
      "\n",
      "Call:\n",
      "lm(formula = hiv_rate_per_100k ~ poverty_rate, data = tx_cleaned)\n",
      "\n",
      "Residuals:\n",
      "    Min      1Q  Median      3Q     Max \n",
      "-209.73  -94.95  -52.99    6.29 2741.78 \n",
      "\n",
      "Coefficients:\n",
      "             Estimate Std. Error t value Pr(>|t|)    \n",
      "(Intercept)  211.4254    47.3633   4.464 1.31e-05 ***\n",
      "poverty_rate  -0.6977     2.7756  -0.251    0.802    \n",
      "---\n",
      "Signif. codes:  0 ‘***’ 0.001 ‘**’ 0.01 ‘*’ 0.05 ‘.’ 0.1 ‘ ’ 1\n",
      "\n",
      "Residual standard error: 244.2 on 211 degrees of freedom\n",
      "  (41 observations deleted due to missingness)\n",
      "Multiple R-squared:  0.0002994,\tAdjusted R-squared:  -0.004439 \n",
      "F-statistic: 0.06319 on 1 and 211 DF,  p-value: 0.8018\n",
      "\n"
     ]
    }
   ],
   "source": [
    "%%R\n",
    "#povertyvsHIVrate\n",
    "model1 <- lm(hiv_rate_per_100k ~ poverty_rate, data = tx_cleaned)\n",
    "summary(model1)\n",
    "#A super low r-squared indicates no correlation. The high p-value backs up that conclusion."
   ]
  },
  {
   "cell_type": "code",
   "execution_count": 16,
   "id": "bef2f04c-019e-4250-bae5-17f194e9dc3e",
   "metadata": {},
   "outputs": [
    {
     "name": "stdout",
     "output_type": "stream",
     "text": [
      "\n",
      "Call:\n",
      "lm(formula = hiv_rate_per_100k ~ bachelors_or_higher, data = tx_cleaned)\n",
      "\n",
      "Residuals:\n",
      "    Min      1Q  Median      3Q     Max \n",
      "-223.67  -96.64  -54.10    7.53 2701.08 \n",
      "\n",
      "Coefficients:\n",
      "                    Estimate Std. Error t value Pr(>|t|)    \n",
      "(Intercept)          151.497     43.862   3.454 0.000668 ***\n",
      "bachelors_or_higher    2.503      2.081   1.203 0.230418    \n",
      "---\n",
      "Signif. codes:  0 ‘***’ 0.001 ‘**’ 0.01 ‘*’ 0.05 ‘.’ 0.1 ‘ ’ 1\n",
      "\n",
      "Residual standard error: 243.4 on 211 degrees of freedom\n",
      "  (41 observations deleted due to missingness)\n",
      "Multiple R-squared:  0.006809,\tAdjusted R-squared:  0.002102 \n",
      "F-statistic: 1.447 on 1 and 211 DF,  p-value: 0.2304\n",
      "\n"
     ]
    }
   ],
   "source": [
    "%%R\n",
    "#educationlevel(bach or higher)vsHIVrate\n",
    "model2 <- lm(hiv_rate_per_100k ~ bachelors_or_higher, data = tx_cleaned)\n",
    "summary(model2)\n",
    "#Super low r squared shows no real relationship, the p value concludes that the low correlation\n",
    "#did not just happen by chance, too. "
   ]
  },
  {
   "cell_type": "code",
   "execution_count": 17,
   "id": "d03d0db7-b2b0-4091-8da7-ab13f0f0ab81",
   "metadata": {},
   "outputs": [
    {
     "name": "stdout",
     "output_type": "stream",
     "text": [
      "\n",
      "Call:\n",
      "lm(formula = hiv_rate_per_100k ~ uninsured_percent, data = tx_cleaned)\n",
      "\n",
      "Residuals:\n",
      "    Min      1Q  Median      3Q     Max \n",
      "-285.54  -98.04  -55.46   11.97 2692.19 \n",
      "\n",
      "Coefficients:\n",
      "                  Estimate Std. Error t value Pr(>|t|)    \n",
      "(Intercept)        344.803    101.140   3.409  0.00079 ***\n",
      "uninsured_percent   -6.585      4.720  -1.395  0.16458    \n",
      "---\n",
      "Signif. codes:  0 ‘***’ 0.001 ‘**’ 0.01 ‘*’ 0.05 ‘.’ 0.1 ‘ ’ 1\n",
      "\n",
      "Residual standard error: 249.1 on 198 degrees of freedom\n",
      "  (54 observations deleted due to missingness)\n",
      "Multiple R-squared:  0.009733,\tAdjusted R-squared:  0.004731 \n",
      "F-statistic: 1.946 on 1 and 198 DF,  p-value: 0.1646\n",
      "\n"
     ]
    }
   ],
   "source": [
    "%%R\n",
    "#uninsuredvsHIVrate\n",
    "model3 <- lm(hiv_rate_per_100k ~ uninsured_percent, data = tx_cleaned)\n",
    "summary(model3)\n",
    "#another extremely low correlation shown by the r squared. P value shows that the chance of correlation is not \n",
    "#significant. "
   ]
  },
  {
   "cell_type": "code",
   "execution_count": 18,
   "id": "3d1b6d80-37cb-42be-9bca-15b38a268494",
   "metadata": {},
   "outputs": [
    {
     "name": "stdout",
     "output_type": "stream",
     "text": [
      "\n",
      "Call:\n",
      "lm(formula = hiv_rate_per_100k ~ unemployment_rate, data = tx_cleaned)\n",
      "\n",
      "Residuals:\n",
      "    Min      1Q  Median      3Q     Max \n",
      "-204.47  -95.49  -51.83    5.91 2748.14 \n",
      "\n",
      "Coefficients:\n",
      "                  Estimate Std. Error t value Pr(>|t|)    \n",
      "(Intercept)        205.896     41.427   4.970 1.38e-06 ***\n",
      "unemployment_rate   -1.047      7.075  -0.148    0.882    \n",
      "---\n",
      "Signif. codes:  0 ‘***’ 0.001 ‘**’ 0.01 ‘*’ 0.05 ‘.’ 0.1 ‘ ’ 1\n",
      "\n",
      "Residual standard error: 244.3 on 211 degrees of freedom\n",
      "  (41 observations deleted due to missingness)\n",
      "Multiple R-squared:  0.0001038,\tAdjusted R-squared:  -0.004635 \n",
      "F-statistic: 0.0219 on 1 and 211 DF,  p-value: 0.8825\n",
      "\n"
     ]
    }
   ],
   "source": [
    "%%R\n",
    "#unemploymentvsHIVrate\n",
    "model4 <- lm(hiv_rate_per_100k ~ unemployment_rate, data = tx_cleaned)\n",
    "summary(model4)\n",
    "#R value is so low, indicates essentially no correlation. p value just is that there's no meaningful evidence\n",
    "#that shows a relationship."
   ]
  },
  {
   "cell_type": "code",
   "execution_count": 19,
   "id": "7d131ade-5ffa-4add-ab6e-60d80ce8df2d",
   "metadata": {},
   "outputs": [],
   "source": [
    "%%R\n",
    "borden_data <- tx_cleaned %>%\n",
    "  filter(county == \"Borden\")"
   ]
  },
  {
   "cell_type": "code",
   "execution_count": 20,
   "id": "67898435-de00-45f1-8199-3abe73e9307b",
   "metadata": {},
   "outputs": [
    {
     "name": "stdout",
     "output_type": "stream",
     "text": [
      "  county GEOID X..HIV.Cases july1_2022_pop_est hiv_rate_per_100k poverty_rate\n",
      "1 Borden 48033           17                576          2951.389     2.610114\n",
      "  unemployment_rate uninsured_percent bachelors_or_higher less_than_hs  hs_only\n",
      "1          2.531646                13            39.47368            0 15.07177\n",
      "  some_college_or_associates\n",
      "1                   11.24402\n"
     ]
    }
   ],
   "source": [
    "%%R\n",
    "print(borden_data)"
   ]
  },
  {
   "cell_type": "code",
   "execution_count": 21,
   "id": "db17e5a7-1360-4edc-8935-febf57d7e40c",
   "metadata": {},
   "outputs": [],
   "source": [
    "%%R\n",
    "county_comparison <- tx_cleaned %>%\n",
    "  mutate(is_borden = ifelse(county == \"Borden\", \"Borden County\", \"Other Counties\")) %>%\n",
    "  arrange(desc(hiv_rate_per_100k))"
   ]
  },
  {
   "cell_type": "code",
   "execution_count": 22,
   "id": "5092bf4a-5d83-451e-8f26-4a27922a900c",
   "metadata": {},
   "outputs": [],
   "source": [
    "%%R\n",
    "top_10_counties <- county_comparison %>%\n",
    "  top_n(10, hiv_rate_per_100k) %>%\n",
    "  select(county, hiv_rate_per_100k, X..HIV.Cases, july1_2022_pop_est, \n",
    "         poverty_rate, uninsured_percent, bachelors_or_higher)"
   ]
  },
  {
   "cell_type": "code",
   "execution_count": 23,
   "id": "c337ed5c-0baa-496e-aed6-c156abf79f56",
   "metadata": {},
   "outputs": [
    {
     "name": "stdout",
     "output_type": "stream",
     "text": [
      "    county hiv_rate_per_100k X..HIV.Cases july1_2022_pop_est poverty_rate\n",
      "1   Borden         2951.3889           17                576     2.610114\n",
      "2    Garza          905.7363           54               5962    19.700570\n",
      "3   Walker          883.2326          694              78575    22.403795\n",
      "4   Reeves          851.9927          121              14202    15.045885\n",
      "5     Frio          807.4195          148              18330    23.256412\n",
      "6   Dallas          746.3528        19597            2625702    15.358457\n",
      "7  Willacy          631.1186          127              20123    26.969174\n",
      "8   Concho          627.0529           21               3349    12.209567\n",
      "9   Harris          578.1155        27828            4813571    15.708874\n",
      "10  Howard          526.8798          177              33594    17.334812\n",
      "   uninsured_percent bachelors_or_higher\n",
      "1                 13           39.473684\n",
      "2                 23           13.883344\n",
      "3                 20           20.818937\n",
      "4                 23           12.295238\n",
      "5                 24            7.285726\n",
      "6                 24           31.476781\n",
      "7                 23            8.859807\n",
      "8                 17           13.023610\n",
      "9                 24           31.450153\n",
      "10                21           12.624033\n"
     ]
    }
   ],
   "source": [
    "%%R\n",
    "print(top_10_counties)"
   ]
  },
  {
   "cell_type": "code",
   "execution_count": 24,
   "id": "d251bb2c-d687-4120-a3ce-7f3d2ce1d5a5",
   "metadata": {},
   "outputs": [],
   "source": [
    "%%R\n",
    "avg_poverty <- tx_cleaned %>%\n",
    "  summarize(\n",
    "    avg_poverty_rate = mean(poverty_rate, na.rm = TRUE),\n",
    "    median_poverty_rate = median(poverty_rate, na.rm = TRUE),\n",
    "    min_poverty_rate = min(poverty_rate, na.rm = TRUE),\n",
    "    max_poverty_rate = max(poverty_rate, na.rm = TRUE)\n",
    "  )"
   ]
  },
  {
   "cell_type": "code",
   "execution_count": 25,
   "id": "eb847b32-8498-4d64-9151-d6c8f9ff4524",
   "metadata": {},
   "outputs": [
    {
     "name": "stdout",
     "output_type": "stream",
     "text": [
      "  avg_poverty_rate median_poverty_rate min_poverty_rate max_poverty_rate\n",
      "1         15.74253            15.04912         2.428811         41.44226\n"
     ]
    }
   ],
   "source": [
    "%%R\n",
    "print(avg_poverty)\n"
   ]
  },
  {
   "cell_type": "code",
   "execution_count": 26,
   "id": "17a78e2f-5c8b-456b-afd2-e35142f67a0d",
   "metadata": {},
   "outputs": [
    {
     "name": "stdout",
     "output_type": "stream",
     "text": [
      "  avg_hs_only avg_bachelors_or_higher avg_uninsured_percent\n",
      "1     25.8869                19.05931              21.25877\n",
      "  avg_unemployment_rate avg_hiv_cases avg_hiv_rate_per_100k\n",
      "1              5.208134      465.0047              200.2874\n"
     ]
    }
   ],
   "source": [
    "%%R\n",
    "tx_averages <- tx_cleaned %>%\n",
    "  summarize(\n",
    "    avg_hs_only = mean(hs_only, na.rm = TRUE),\n",
    "    avg_bachelors_or_higher = mean(bachelors_or_higher, na.rm = TRUE),\n",
    "    avg_uninsured_percent = mean(uninsured_percent, na.rm = TRUE),\n",
    "    avg_unemployment_rate = mean(unemployment_rate, na.rm = TRUE),\n",
    "    avg_hiv_cases = mean(X..HIV.Cases, na.rm = TRUE),\n",
    "    avg_hiv_rate_per_100k = mean(hiv_rate_per_100k, na.rm = TRUE)\n",
    "  )\n",
    "print(tx_averages)"
   ]
  },
  {
   "cell_type": "code",
   "execution_count": 27,
   "id": "20160f8b-47a0-41fa-ae1e-235531659a1b",
   "metadata": {},
   "outputs": [],
   "source": [
    "#woah, so interestingly enough, Borden, the county with the highest HIV rates, \n",
    "#actually has a way higher bachelor's population versus the average. It also has a way \n",
    "#lower poverty rate than average, but it does have a low population which could contribute.\n",
    "#It also has a lower uninsured percentage than the state average. "
   ]
  },
  {
   "cell_type": "code",
   "execution_count": 28,
   "id": "981de6aa-a790-46ee-950c-ecb9942db6b7",
   "metadata": {},
   "outputs": [
    {
     "name": "stdout",
     "output_type": "stream",
     "text": [
      "\n",
      "Call:\n",
      "lm(formula = hiv_rate_per_100k ~ unemployment_rate, data = tx_cleaned)\n",
      "\n",
      "Residuals:\n",
      "    Min      1Q  Median      3Q     Max \n",
      "-204.47  -95.49  -51.83    5.91 2748.14 \n",
      "\n",
      "Coefficients:\n",
      "                  Estimate Std. Error t value Pr(>|t|)    \n",
      "(Intercept)        205.896     41.427   4.970 1.38e-06 ***\n",
      "unemployment_rate   -1.047      7.075  -0.148    0.882    \n",
      "---\n",
      "Signif. codes:  0 ‘***’ 0.001 ‘**’ 0.01 ‘*’ 0.05 ‘.’ 0.1 ‘ ’ 1\n",
      "\n",
      "Residual standard error: 244.3 on 211 degrees of freedom\n",
      "  (41 observations deleted due to missingness)\n",
      "Multiple R-squared:  0.0001038,\tAdjusted R-squared:  -0.004635 \n",
      "F-statistic: 0.0219 on 1 and 211 DF,  p-value: 0.8825\n",
      "\n"
     ]
    }
   ],
   "source": [
    "%%R\n",
    "model4 <- lm(hiv_rate_per_100k ~ unemployment_rate, data = tx_cleaned)\n",
    "summary(model4)\n",
    "#R value is so low, indicates essentially no correlation. p value just is that there's no meaningful evidence\n",
    "#that shows a relationship."
   ]
  },
  {
   "cell_type": "code",
   "execution_count": 29,
   "id": "1a273dcb-b0d6-4a3d-8e48-ba6572fc5e87",
   "metadata": {},
   "outputs": [
    {
     "name": "stdout",
     "output_type": "stream",
     "text": [
      "\n",
      "Call:\n",
      "lm(formula = hiv_rate_per_100k ~ hs_only, data = tx_cleaned)\n",
      "\n",
      "Residuals:\n",
      "    Min      1Q  Median      3Q     Max \n",
      "-228.48 -105.56  -46.17   30.49 2645.06 \n",
      "\n",
      "Coefficients:\n",
      "            Estimate Std. Error t value Pr(>|t|)    \n",
      "(Intercept)  452.613     82.382   5.494 1.13e-07 ***\n",
      "hs_only       -9.706      3.106  -3.125  0.00203 ** \n",
      "---\n",
      "Signif. codes:  0 ‘***’ 0.001 ‘**’ 0.01 ‘*’ 0.05 ‘.’ 0.1 ‘ ’ 1\n",
      "\n",
      "Residual standard error: 238.8 on 211 degrees of freedom\n",
      "  (41 observations deleted due to missingness)\n",
      "Multiple R-squared:  0.04424,\tAdjusted R-squared:  0.03971 \n",
      "F-statistic: 9.766 on 1 and 211 DF,  p-value: 0.002027\n",
      "\n"
     ]
    }
   ],
   "source": [
    "%%R\n",
    "model5 <- lm(hiv_rate_per_100k ~ hs_only, data = tx_cleaned)\n",
    "summary(model5)\n",
    "#The r squared is weak, at around 4%. The p-value shows that the correlation is unlikely due to chance. "
   ]
  },
  {
   "cell_type": "code",
   "execution_count": 30,
   "id": "fb54b847-ff7b-48e7-9820-149b4864e79e",
   "metadata": {
    "scrolled": true
   },
   "outputs": [],
   "source": [
    "# %%R \n",
    "\n",
    "# install.packages('ggrepel')"
   ]
  },
  {
   "cell_type": "code",
   "execution_count": 31,
   "id": "5816e6b6-e3a5-43b0-9ec7-00137c6b800e",
   "metadata": {},
   "outputs": [
    {
     "name": "stdout",
     "output_type": "stream",
     "text": [
      "`geom_smooth()` using method = 'loess' and formula = 'y ~ x'\n"
     ]
    },
    {
     "name": "stderr",
     "output_type": "stream",
     "text": [
      "R[write to console]: In addition: \n",
      "R[write to console]: Warning messages:\n",
      "\n",
      "R[write to console]: 1: Removed 41 rows containing non-finite outside the scale range\n",
      "(`stat_smooth()`). \n",
      "\n",
      "R[write to console]: 2: Removed 41 rows containing missing values or values outside the scale range\n",
      "(`geom_point()`). \n",
      "\n",
      "R[write to console]: 3: Removed 41 rows containing missing values or values outside the scale range\n",
      "(`geom_text_repel()`). \n",
      "\n",
      "R[write to console]: 4: ggrepel: 180 unlabeled data points (too many overlaps). Consider increasing max.overlaps \n",
      "\n"
     ]
    },
    {
     "data": {
      "image/png": "[encoded data removed]",
      "text/plain": [
       "<IPython.core.display.Image object>"
      ]
     },
     "metadata": {},
     "output_type": "display_data"
    }
   ],
   "source": [
    "%%R -w 1000\n",
    "\n",
    "library(ggrepel)\n",
    "ggplot(tx_cleaned %>% filter(county!=\"Borden\")) + \n",
    "  aes(x = july1_2022_pop_est, y = hiv_rate_per_100k) + \n",
    "  geom_point(alpha=.4) + \n",
    "  geom_smooth() +\n",
    "  geom_text_repel(aes(label=county)) +\n",
    "  labs(title = \"Relationship Between Uninsured Percentage and HIV Rate\",\n",
    "       x = \"Uninsured Population (%)\",\n",
    "       y = \"HIV Cases per 100,000 Population\")"
   ]
  },
  {
   "cell_type": "code",
   "execution_count": 32,
   "id": "4b2da36c-c555-4baa-96dc-4f2ce1e5ac88",
   "metadata": {},
   "outputs": [],
   "source": [
    "%%R\n",
    "multi_model <- lm(hiv_rate_per_100k ~ \n",
    "                 poverty_rate + july1_2022_pop_est +\n",
    "                 uninsured_percent + \n",
    "                 bachelors_or_higher + \n",
    "                 unemployment_rate, \n",
    "                 data = tx_cleaned)"
   ]
  },
  {
   "cell_type": "code",
   "execution_count": 33,
   "id": "2958460d-425e-4b0a-ab59-d70ab2fa360a",
   "metadata": {},
   "outputs": [
    {
     "name": "stdout",
     "output_type": "stream",
     "text": [
      "\n",
      "Call:\n",
      "lm(formula = hiv_rate_per_100k ~ poverty_rate + july1_2022_pop_est + \n",
      "    uninsured_percent + bachelors_or_higher + unemployment_rate, \n",
      "    data = tx_cleaned)\n",
      "\n",
      "Residuals:\n",
      "    Min      1Q  Median      3Q     Max \n",
      "-281.16  -91.51  -50.78    6.71 2735.23 \n",
      "\n",
      "Coefficients:\n",
      "                      Estimate Std. Error t value Pr(>|t|)  \n",
      "(Intercept)          3.676e+02  1.604e+02   2.292   0.0230 *\n",
      "poverty_rate         1.495e+00  3.904e+00   0.383   0.7021  \n",
      "july1_2022_pop_est   9.291e-05  4.213e-05   2.206   0.0286 *\n",
      "uninsured_percent   -7.964e+00  5.712e+00  -1.394   0.1648  \n",
      "bachelors_or_higher -1.231e+00  2.912e+00  -0.423   0.6730  \n",
      "unemployment_rate   -1.291e+00  9.112e+00  -0.142   0.8875  \n",
      "---\n",
      "Signif. codes:  0 ‘***’ 0.001 ‘**’ 0.01 ‘*’ 0.05 ‘.’ 0.1 ‘ ’ 1\n",
      "\n",
      "Residual standard error: 248.2 on 194 degrees of freedom\n",
      "  (54 observations deleted due to missingness)\n",
      "Multiple R-squared:  0.03665,\tAdjusted R-squared:  0.01183 \n",
      "F-statistic: 1.476 on 5 and 194 DF,  p-value: 0.1993\n",
      "\n"
     ]
    }
   ],
   "source": [
    "%%R\n",
    "summary(multi_model)\n",
    "#again, a super low r squared and high p-value indicates barely any correlation "
   ]
  },
  {
   "cell_type": "code",
   "execution_count": null,
   "id": "4531b6d1-7e60-4725-b1f6-c2704f4d2985",
   "metadata": {},
   "outputs": [],
   "source": []
  },
  {
   "cell_type": "code",
   "execution_count": null,
   "id": "00fd49f3-37c8-427a-909f-1f060690ebe6",
   "metadata": {},
   "outputs": [],
   "source": []
  }
 ],
 "metadata": {
  "kernelspec": {
   "display_name": "Python 3 (ipykernel)",
   "language": "python",
   "name": "python3"
  },
  "language_info": {
   "codemirror_mode": {
    "name": "ipython",
    "version": 3
   },
   "file_extension": ".py",
   "mimetype": "text/x-python",
   "name": "python",
   "nbconvert_exporter": "python",
   "pygments_lexer": "ipython3",
   "version": "3.11.8"
  }
 },
 "nbformat": 4,
 "nbformat_minor": 5
}
